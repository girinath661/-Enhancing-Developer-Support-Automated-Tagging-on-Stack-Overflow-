{
 "cells": [
  {
   "cell_type": "code",
   "execution_count": null,
   "id": "8c6e1ad1",
   "metadata": {},
   "outputs": [
    {
     "name": "stdout",
     "output_type": "stream",
     "text": [
      "Tuning Logistic Regression...\n",
      "Fitting 3 folds for each of 2 candidates, totalling 6 fits\n",
      "\n",
      "Logistic Regression Results:\n",
      "Accuracy: 0.3420\n",
      "Precision (micro): 0.7678\n",
      "Recall (micro): 0.4873\n",
      "F1 Score (micro): 0.5962\n",
      "Precision (macro): 0.7283\n",
      "Recall (macro): 0.4596\n",
      "F1 Score (macro): 0.5580\n",
      "Best Params: {'clf__estimator__C': 10}\n"
     ]
    }
   ],
   "source": [
    "import pandas as pd\n",
    "from sklearn.model_selection import train_test_split, GridSearchCV\n",
    "from sklearn.preprocessing import MultiLabelBinarizer\n",
    "from sklearn.feature_extraction.text import TfidfVectorizer\n",
    "from sklearn.pipeline import Pipeline\n",
    "from sklearn.linear_model import LogisticRegression\n",
    "from sklearn.multiclass import OneVsRestClassifier\n",
    "from sklearn.metrics import accuracy_score, precision_score, recall_score, f1_score, make_scorer\n",
    "from collections import Counter\n",
    "import warnings\n",
    "warnings.filterwarnings(\"ignore\")\n",
    "\n",
    "# Load dataset\n",
    "df = pd.read_csv(\"cleaned_stackoverflow.csv\")\n",
    "\n",
    "# Preprocess\n",
    "df = df[df['tags'].apply(lambda x: isinstance(x, str))]\n",
    "df['text'] = df['text'].fillna('')\n",
    "df['question'] = df['question'].fillna('')\n",
    "df['combined_text'] = df['question'] + ' ' + df['text']\n",
    "df['tags'] = df['tags'].apply(lambda x: [tag.strip() for tag in x.split(',')])\n",
    "\n",
    "# Top 50 tags only\n",
    "top_tags = [tag for tag, _ in Counter([t for tags in df['tags'] for t in tags]).most_common(50)]\n",
    "df['filtered_tags'] = df['tags'].apply(lambda tags: [t for t in tags if t in top_tags])\n",
    "df = df[df['filtered_tags'].map(len) > 0]\n",
    "\n",
    "# Binarize labels\n",
    "mlb = MultiLabelBinarizer()\n",
    "Y = mlb.fit_transform(df['filtered_tags'])\n",
    "X = df['combined_text']\n",
    "\n",
    "# Split\n",
    "X_train, X_test, Y_train, Y_test = train_test_split(X, Y, test_size=0.2, random_state=42)\n",
    "\n",
    "# Scorer\n",
    "f1_scorer = make_scorer(f1_score, average='micro')\n",
    "\n",
    "# Logistic Regression model\n",
    "model = Pipeline([\n",
    "    ('tfidf', TfidfVectorizer(max_features=10000, ngram_range=(1,2), stop_words='english')),\n",
    "    ('clf', OneVsRestClassifier(LogisticRegression(solver='liblinear', max_iter=2000)))\n",
    "])\n",
    "\n",
    "params = {\n",
    "    'clf__estimator__C': [1, 10]\n",
    "}\n",
    "\n",
    "# Train & Evaluate\n",
    "print(\"Tuning Logistic Regression...\")\n",
    "grid = GridSearchCV(model, param_grid=params, scoring=f1_scorer, cv=3, verbose=1, n_jobs=-1)\n",
    "grid.fit(X_train, Y_train)\n",
    "best_model = grid.best_estimator_\n",
    "\n",
    "Y_pred = best_model.predict(X_test)\n",
    "\n",
    "results = {\n",
    "    'Accuracy': accuracy_score(Y_test, Y_pred),\n",
    "    'Precision (micro)': precision_score(Y_test, Y_pred, average='micro'),\n",
    "    'Recall (micro)': recall_score(Y_test, Y_pred, average='micro'),\n",
    "    'F1 Score (micro)': f1_score(Y_test, Y_pred, average='micro'),\n",
    "    'Precision (macro)': precision_score(Y_test, Y_pred, average='macro'),\n",
    "    'Recall (macro)': recall_score(Y_test, Y_pred, average='macro'),\n",
    "    'F1 Score (macro)': f1_score(Y_test, Y_pred, average='macro'),\n",
    "    'Best Params': grid.best_params_\n",
    "}\n",
    "\n",
    "# Show Results\n",
    "print(\"\\nLogistic Regression Results:\")\n",
    "for metric, val in results.items():\n",
    "    if isinstance(val, dict):\n",
    "        print(f\"{metric}: {val}\")\n",
    "    else:\n",
    "        print(f\"{metric}: {val:.4f}\")"
   ]
  },
  {
   "cell_type": "code",
   "execution_count": 2,
   "id": "6d1acb4f",
   "metadata": {},
   "outputs": [
    {
     "name": "stdout",
     "output_type": "stream",
     "text": [
      "Text: How to use pandas to read a CSV file in Python\n",
      "Predicted Tags: ('python',)\n",
      "\n",
      "Text: Best practices for training deep learning models in TensorFlow\n",
      "Predicted Tags: ('python',)\n",
      "\n",
      "Text: How to optimize SQL queries for better performance\n",
      "Predicted Tags: ()\n",
      "\n"
     ]
    }
   ],
   "source": [
    "# New text data to predict tags for\n",
    "new_texts = [\n",
    "    \"How to use pandas to read a CSV file in Python\",\n",
    "    \"Best practices for training deep learning models in TensorFlow\",\n",
    "    \"How to optimize SQL queries for better performance\"\n",
    "]\n",
    "\n",
    "# Predict tags (binary format)\n",
    "Y_pred_new = best_model.predict(new_texts)\n",
    "\n",
    "# Convert binary predictions back to actual tag names\n",
    "predicted_tags = mlb.inverse_transform(Y_pred_new)\n",
    "\n",
    "# Print results\n",
    "for text, tags in zip(new_texts, predicted_tags):\n",
    "    print(f\"Text: {text}\")\n",
    "    print(f\"Predicted Tags: {tags}\\n\")"
   ]
  },
  {
   "cell_type": "code",
   "execution_count": null,
   "id": "a5ef01f7",
   "metadata": {},
   "outputs": [],
   "source": []
  }
 ],
 "metadata": {
  "kernelspec": {
   "display_name": "base",
   "language": "python",
   "name": "python3"
  },
  "language_info": {
   "codemirror_mode": {
    "name": "ipython",
    "version": 3
   },
   "file_extension": ".py",
   "mimetype": "text/x-python",
   "name": "python",
   "nbconvert_exporter": "python",
   "pygments_lexer": "ipython3",
   "version": "3.12.4"
  }
 },
 "nbformat": 4,
 "nbformat_minor": 5
}
